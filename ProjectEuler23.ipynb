{
 "cells": [
  {
   "cell_type": "code",
   "execution_count": null,
   "metadata": {},
   "outputs": [],
   "source": [
    "def proper_divisors(n):\n",
    "    div_list = []\n",
    "    for i in range(1,n//2+1):\n",
    "        if n % i == 0:\n",
    "            div_list.append(i)\n",
    "            i += 1\n",
    "        else:\n",
    "            i += 1\n",
    "    return div_list\n",
    "\n",
    "def aliquot_sum(n):\n",
    "    count = 0\n",
    "    for x in proper_divisors(n):\n",
    "        count += x\n",
    "    return count\n",
    "\n",
    "def is_abundant(n):\n",
    "    if aliquot_sum(n) > n:\n",
    "        return True\n",
    "    else:\n",
    "        return False\n",
    "    \n",
    "def is_abun_sum(n):\n",
    "    check = 0\n",
    "    for x in range(12,int(n/2)+1):\n",
    "        if is_abundant(x) == True and is_abundant(n-x) == True:\n",
    "            check = 1\n",
    "    if check == 0:\n",
    "        return False\n",
    "    if check == 1:\n",
    "        return True\n",
    "        \n",
    "abundant = []\n",
    "for x in range(12,28112):\n",
    "    if is_abundant(x):\n",
    "        abundant.append(x)\n",
    "        \n",
    "sums_of_two_abuns = []\n",
    "\n",
    "for i in range(0,len(abundant)):\n",
    "    for j in range(0,len(abundant)):\n",
    "        sums_of_two_abuns.append(abundant[i]+abundant[j])\n",
    "\n",
    "solution = []\n",
    "\n",
    "for x in range(0,28124):\n",
    "    if x not in sums_of_two_abuns:\n",
    "        solution.append(x)\n",
    "        \n",
    "sum(solution)\n",
    "\n",
    "\n"
   ]
  },
  {
   "cell_type": "code",
   "execution_count": null,
   "metadata": {},
   "outputs": [],
   "source": []
  }
 ],
 "metadata": {
  "kernelspec": {
   "display_name": "Python 3",
   "language": "python",
   "name": "python3"
  },
  "language_info": {
   "codemirror_mode": {
    "name": "ipython",
    "version": 3
   },
   "file_extension": ".py",
   "mimetype": "text/x-python",
   "name": "python",
   "nbconvert_exporter": "python",
   "pygments_lexer": "ipython3",
   "version": "3.7.6"
  }
 },
 "nbformat": 4,
 "nbformat_minor": 4
}
