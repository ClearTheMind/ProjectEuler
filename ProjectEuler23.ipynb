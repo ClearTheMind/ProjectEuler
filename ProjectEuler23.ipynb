{
 "cells": [
  {
   "cell_type": "code",
   "execution_count": 40,
   "metadata": {},
   "outputs": [
    {
     "data": {
      "text/plain": [
       "3921523"
      ]
     },
     "execution_count": 40,
     "metadata": {},
     "output_type": "execute_result"
    }
   ],
   "source": [
    "import math\n",
    "\n",
    "def proper_divisors(n):\n",
    "    div_list = []\n",
    "    for i in range(1,math.floor(math.sqrt(n))+1):\n",
    "        if n % i == 0:\n",
    "            div_list.append(i)\n",
    "            if i != 1:\n",
    "                div_list.append(n//i)\n",
    "            i += 1\n",
    "        else:\n",
    "            i += 1\n",
    "    return div_list\n",
    "\n",
    "def aliquot_sum(n):\n",
    "    count = 0\n",
    "    for x in proper_divisors(n):\n",
    "        count += x\n",
    "    return count\n",
    "\n",
    "def is_abundant(n):\n",
    "    return aliquot_sum(n) > n\n",
    "    \n",
    "def is_abun_sum(n):\n",
    "    check = 0\n",
    "    for x in range(12,int(n/2)+1):\n",
    "        if is_abundant(x) == True and is_abundant(n-x) == True:\n",
    "            check = 1\n",
    "            break\n",
    "    if check == 1:\n",
    "        return True\n",
    "    else:\n",
    "        return False\n",
    "\n",
    "count = 0\n",
    "\n",
    "for x in range(1,28124):\n",
    "    if is_abun_sum(x) == False:\n",
    "        count += x\n",
    "        \n",
    "count\n"
   ]
  },
  {
   "cell_type": "code",
   "execution_count": null,
   "metadata": {},
   "outputs": [],
   "source": []
  }
 ],
 "metadata": {
  "kernelspec": {
   "display_name": "Python 3",
   "language": "python",
   "name": "python3"
  },
  "language_info": {
   "codemirror_mode": {
    "name": "ipython",
    "version": 3
   },
   "file_extension": ".py",
   "mimetype": "text/x-python",
   "name": "python",
   "nbconvert_exporter": "python",
   "pygments_lexer": "ipython3",
   "version": "3.7.6"
  }
 },
 "nbformat": 4,
 "nbformat_minor": 4
}
