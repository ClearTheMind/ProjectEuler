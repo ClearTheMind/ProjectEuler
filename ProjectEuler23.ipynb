{
 "cells": [
  {
   "cell_type": "code",
   "execution_count": 1,
   "metadata": {},
   "outputs": [
    {
     "data": {
      "text/plain": [
       "4179871"
      ]
     },
     "execution_count": 1,
     "metadata": {},
     "output_type": "execute_result"
    }
   ],
   "source": [
    "import math\n",
    "\n",
    "def proper_divisors(n):\n",
    "    div_set = set()\n",
    "    for i in range(1,math.floor(math.sqrt(n))+1):\n",
    "        if n % i == 0:\n",
    "            div_set.add(i)\n",
    "            if i != 1:\n",
    "                div_set.add(n//i)\n",
    "            i += 1\n",
    "        else:\n",
    "            i += 1\n",
    "    return div_set\n",
    "\n",
    "def aliquot_sum(n):\n",
    "    count = 0\n",
    "    for x in proper_divisors(n):\n",
    "        count += x\n",
    "    return count\n",
    "\n",
    "def is_abundant(n):\n",
    "    return aliquot_sum(n) > n\n",
    "\n",
    "\n",
    "abundant = [] #We'll keep this a list so that we can index to the nth abundant number\n",
    "for x in range(12,28112):\n",
    "    if is_abundant(x):\n",
    "        abundant.append(x)\n",
    "        \n",
    "sums_of_two_abuns = set() #use a set here to avoid redundancy\n",
    "\n",
    "for i in range(0,len(abundant)):\n",
    "    for j in range(0,len(abundant)):\n",
    "        sums_of_two_abuns.add(abundant[i] + abundant[j])\n",
    "\n",
    "solution = []\n",
    "\n",
    "for x in range(0,28124):\n",
    "    if x not in sums_of_two_abuns:\n",
    "        solution.append(x)\n",
    "        \n",
    "sum(solution)"
   ]
  },
  {
   "cell_type": "code",
   "execution_count": null,
   "metadata": {},
   "outputs": [],
   "source": []
  }
 ],
 "metadata": {
  "kernelspec": {
   "display_name": "Python 3",
   "language": "python",
   "name": "python3"
  },
  "language_info": {
   "codemirror_mode": {
    "name": "ipython",
    "version": 3
   },
   "file_extension": ".py",
   "mimetype": "text/x-python",
   "name": "python",
   "nbconvert_exporter": "python",
   "pygments_lexer": "ipython3",
   "version": "3.7.6"
  }
 },
 "nbformat": 4,
 "nbformat_minor": 4
}
